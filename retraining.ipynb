{
 "cells": [
  {
   "cell_type": "code",
   "execution_count": 1,
   "metadata": {},
   "outputs": [],
   "source": [
    "from pathlib import Path\n",
    "import pickle as pkl\n",
    "data_lama_path = Path(\"data_lama\")\n",
    "cv_split = pkl.load(open(data_lama_path / 'cross_validation_splits.pkl', 'rb'))\n",
    "rel2data = pkl.load(open(data_lama_path / 'data.pkl', 'rb'))\n",
    "rel2templates = pkl.load(open(data_lama_path / 'templates.pkl', 'rb'))"
   ]
  },
  {
   "cell_type": "code",
   "execution_count": 2,
   "metadata": {},
   "outputs": [],
   "source": [
    "verbalizers = []\n",
    "with open(data_lama_path / 'class_verbalizers.txt', 'r') as f:\n",
    "    for line in f.readlines():\n",
    "        word = line.strip()\n",
    "        assert len(word) != 0  # nonempty\n",
    "        verbalizers.append(word)"
   ]
  },
  {
   "cell_type": "code",
   "execution_count": 3,
   "metadata": {},
   "outputs": [
    {
     "data": {
      "text/plain": [
       "(29, 11935, 21018)"
      ]
     },
     "execution_count": 3,
     "metadata": {},
     "output_type": "execute_result"
    }
   ],
   "source": [
    "# 29 relations (tasks) in total, 12K examples in total, 21K way classification for each task\n",
    "len(rel2data.keys()), sum(len(v) for v in rel2data.values()), len(verbalizers)"
   ]
  },
  {
   "cell_type": "code",
   "execution_count": 4,
   "metadata": {},
   "outputs": [
    {
     "data": {
      "text/plain": [
       "8"
      ]
     },
     "execution_count": 4,
     "metadata": {},
     "output_type": "execute_result"
    }
   ],
   "source": [
    "# 8 fold cross validation\n",
    "# create 8 partitions roughly the same size\n",
    "# for each fold use 6 partitions for training, 1 for validation, 1 for testing\n",
    "# the union of the 8 test sets gives the set of 29 relations\n",
    "len(cv_split)"
   ]
  },
  {
   "cell_type": "code",
   "execution_count": 5,
   "metadata": {},
   "outputs": [
    {
     "data": {
      "text/plain": [
       "29"
      ]
     },
     "execution_count": 5,
     "metadata": {},
     "output_type": "execute_result"
    }
   ],
   "source": [
    "len({task for split in cv_split for task in split[\"test\"]})"
   ]
  },
  {
   "cell_type": "code",
   "execution_count": 6,
   "metadata": {},
   "outputs": [
    {
     "data": {
      "text/plain": [
       "[{'<input>': 'Kandi Burruss', '<label>': 1213},\n",
       " {'<input>': 'Caroline Bynum', '<label>': 1213},\n",
       " {'<input>': 'Big Gipp', '<label>': 1213},\n",
       " {'<input>': 'Elise Broach', '<label>': 1213},\n",
       " {'<input>': 'Robbie Merrill', '<label>': 4683}]"
      ]
     },
     "execution_count": 6,
     "metadata": {},
     "output_type": "execute_result"
    }
   ],
   "source": [
    "rel2data['P19'][:5]"
   ]
  },
  {
   "cell_type": "code",
   "execution_count": 7,
   "metadata": {},
   "outputs": [
    {
     "data": {
      "text/plain": [
       "['<input> was born in <label>.',\n",
       " '<input> is born in <label>.',\n",
       " '<input> was born <label>.',\n",
       " '<input> was born at <label>.',\n",
       " '<input> comes from <label>.']"
      ]
     },
     "execution_count": 7,
     "metadata": {},
     "output_type": "execute_result"
    }
   ],
   "source": [
    "rel2templates['P19'][:5]"
   ]
  },
  {
   "cell_type": "code",
   "execution_count": 8,
   "metadata": {},
   "outputs": [],
   "source": [
    "fold_idx = 0\n",
    "train_tasks, val_tasks = cv_split[fold_idx]['train'], cv_split[fold_idx]['val']\n",
    "train_task2examples = {task: rel2data[task] for task in train_tasks}\n",
    "train_task2templates = {task: rel2templates[task] for task in train_tasks}\n",
    "val_task2examples = {task: rel2data[task] for task in val_tasks}\n",
    "val_task2templates = {task: rel2templates[task] for task in val_tasks}"
   ]
  },
  {
   "cell_type": "code",
   "execution_count": 9,
   "metadata": {},
   "outputs": [
    {
     "data": {
      "text/plain": [
       "({('bert-base-cased', 0): 0.10848652538953074,\n",
       "  ('bert-base-cased', 1): 0.09114081552780393,\n",
       "  ('bert-base-cased', 2): 0.11496727479675059,\n",
       "  ('bert-base-cased', 5): 0.14595798089610912,\n",
       "  ('bert-large-cased', 0): [0.19096878937760975,\n",
       "   0.09419799523812804,\n",
       "   0.1320909474616652,\n",
       "   0.12454447451695569,\n",
       "   0.07326126240686288,\n",
       "   0.07488589315134987,\n",
       "   0.2013666280813856,\n",
       "   0.1669728045693516]},\n",
       " {('bert-base-cased', 0): 0.10848652538953074,\n",
       "  ('bert-base-cased', 1): 0.09114081552780393,\n",
       "  ('bert-base-cased', 2): 0.11496727479675059,\n",
       "  ('bert-base-cased', 5): 0.14595798089610912,\n",
       "  ('bert-large-cased', 0): 0.13228609935041358})"
      ]
     },
     "execution_count": 9,
     "metadata": {},
     "output_type": "execute_result"
    }
   ],
   "source": [
    "with open(\"table_level_results_lama.pkl\", \"rb\") as f:\n",
    "    table_data = pkl.load(f)\n",
    "with open(\"fold_level_results.pkl\", \"rb\") as f:\n",
    "    fold_data = pkl.load(f)\n",
    "fold_data, table_data"
   ]
  },
  {
   "cell_type": "code",
   "execution_count": null,
   "metadata": {},
   "outputs": [],
   "source": []
  }
 ],
 "metadata": {
  "kernelspec": {
   "display_name": "Python 3",
   "language": "python",
   "name": "python3"
  },
  "language_info": {
   "codemirror_mode": {
    "name": "ipython",
    "version": 3
   },
   "file_extension": ".py",
   "mimetype": "text/x-python",
   "name": "python",
   "nbconvert_exporter": "python",
   "pygments_lexer": "ipython3",
   "version": "3.9.15 (main, Nov 24 2022, 14:31:59) \n[GCC 11.2.0]"
  },
  "vscode": {
   "interpreter": {
    "hash": "8da83863563378bbc2c761f1e89cdd777541f5f108c58e85766dc943f6cbafa4"
   }
  }
 },
 "nbformat": 4,
 "nbformat_minor": 4
}
