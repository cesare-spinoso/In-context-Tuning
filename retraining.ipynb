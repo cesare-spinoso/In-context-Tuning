{
 "cells": [
  {
   "cell_type": "code",
   "execution_count": 3,
   "metadata": {},
   "outputs": [],
   "source": [
    "from pathlib import Path\n",
    "import pickle as pkl\n",
    "example_data_path = Path(\"example_data\")\n",
    "cv_split = pkl.load(open(example_data_path / 'cross_validation_splits.pkl', 'rb'))\n",
    "rel2data = pkl.load(open(example_data_path / 'data.pkl', 'rb'))\n",
    "rel2templates = pkl.load(open(example_data_path / 'templates.pkl', 'rb'))"
   ]
  },
  {
   "cell_type": "code",
   "execution_count": 9,
   "metadata": {},
   "outputs": [
    {
     "data": {
      "text/plain": [
       "{'train': ['P530',\n",
       "  'P108',\n",
       "  'P37',\n",
       "  'P127',\n",
       "  'P276',\n",
       "  'P47',\n",
       "  'P279',\n",
       "  'P131',\n",
       "  'P364',\n",
       "  'P138',\n",
       "  'P20',\n",
       "  'P527',\n",
       "  'P106',\n",
       "  'P937',\n",
       "  'P27',\n",
       "  'P361',\n",
       "  'P740',\n",
       "  'P1376',\n",
       "  'P101',\n",
       "  'P17',\n",
       "  'P1001'],\n",
       " 'val': ['P31', 'P159', 'P190', 'P407'],\n",
       " 'test': ['P19', 'P1412', 'P36', 'P495']}"
      ]
     },
     "execution_count": 9,
     "metadata": {},
     "output_type": "execute_result"
    }
   ],
   "source": [
    "cv_split[0]"
   ]
  },
  {
   "cell_type": "code",
   "execution_count": 6,
   "metadata": {},
   "outputs": [
    {
     "data": {
      "text/plain": [
       "[{'<input>': 'Kandi Burruss', '<label>': 1213},\n",
       " {'<input>': 'Caroline Bynum', '<label>': 1213},\n",
       " {'<input>': 'Big Gipp', '<label>': 1213},\n",
       " {'<input>': 'Elise Broach', '<label>': 1213},\n",
       " {'<input>': 'Robbie Merrill', '<label>': 4683}]"
      ]
     },
     "execution_count": 6,
     "metadata": {},
     "output_type": "execute_result"
    }
   ],
   "source": [
    "rel2data['P19'][:5]"
   ]
  },
  {
   "cell_type": "code",
   "execution_count": 11,
   "metadata": {},
   "outputs": [
    {
     "data": {
      "text/plain": [
       "['<input> was born in <label>.',\n",
       " '<input> is born in <label>.',\n",
       " '<input> was born <label>.',\n",
       " '<input> was born at <label>.',\n",
       " '<input> comes from <label>.']"
      ]
     },
     "execution_count": 11,
     "metadata": {},
     "output_type": "execute_result"
    }
   ],
   "source": [
    "rel2templates['P19'][:5]"
   ]
  },
  {
   "cell_type": "code",
   "execution_count": 13,
   "metadata": {},
   "outputs": [],
   "source": [
    "fold_idx = 0\n",
    "train_tasks, val_tasks = cv_split[fold_idx]['train'], cv_split[fold_idx]['val']\n",
    "train_task2examples = {task: rel2data[task] for task in train_tasks}\n",
    "train_task2templates = {task: rel2templates[task] for task in train_tasks}\n",
    "val_task2examples = {task: rel2data[task] for task in val_tasks}\n",
    "val_task2templates = {task: rel2templates[task] for task in val_tasks}\n",
    "\n",
    "# load verbalizers\n",
    "verbalizers = []\n",
    "with open(example_data_path / 'class_verbalizers.txt', 'r') as f:\n",
    "    for line in f.readlines():\n",
    "        word = line.strip()\n",
    "        assert len(word) != 0  # nonempty\n",
    "        verbalizers.append(word)"
   ]
  },
  {
   "cell_type": "code",
   "execution_count": 27,
   "metadata": {},
   "outputs": [
    {
     "data": {
      "text/plain": [
       "['#', '%', '&', '+', '000']"
      ]
     },
     "execution_count": 27,
     "metadata": {},
     "output_type": "execute_result"
    }
   ],
   "source": [
    "verbalizers[:5]"
   ]
  },
  {
   "cell_type": "code",
   "execution_count": 24,
   "metadata": {},
   "outputs": [
    {
     "data": {
      "text/plain": [
       "[{'<input>': 'Australia', '<label>': 3055},\n",
       " {'<input>': 'Israel', '<label>': 3055},\n",
       " {'<input>': 'Zambia', '<label>': 3055},\n",
       " {'<input>': 'Canada', '<label>': 3055},\n",
       " {'<input>': 'Ukraine', '<label>': 3055}]"
      ]
     },
     "execution_count": 24,
     "metadata": {},
     "output_type": "execute_result"
    }
   ],
   "source": [
    "train_task2examples.keys()\n",
    "train_task2examples['P530'][:5]"
   ]
  },
  {
   "cell_type": "code",
   "execution_count": 25,
   "metadata": {},
   "outputs": [
    {
     "data": {
      "text/plain": [
       "['<input> maintains diplomatic relations with <label>.',\n",
       " '<input> france <label>.',\n",
       " '<input> germany <label>.',\n",
       " '<input> embassy in <label>.',\n",
       " '<input> italy <label>.',\n",
       " '<input> invaded <label>.',\n",
       " '<input> has diplomatic relations with <label>.',\n",
       " '<input> maintains diplomatic relations to <label>.',\n",
       " '<input> maintains diplomatic ties with <label>.',\n",
       " '<input> maintains diplomatic relationships with <label>.']"
      ]
     },
     "execution_count": 25,
     "metadata": {},
     "output_type": "execute_result"
    }
   ],
   "source": [
    "train_task2templates.keys()\n",
    "train_task2templates['P530']"
   ]
  },
  {
   "cell_type": "code",
   "execution_count": null,
   "metadata": {},
   "outputs": [],
   "source": []
  }
 ],
 "metadata": {
  "kernelspec": {
   "display_name": "ict",
   "language": "python",
   "name": "ict"
  },
  "language_info": {
   "codemirror_mode": {
    "name": "ipython",
    "version": 3
   },
   "file_extension": ".py",
   "mimetype": "text/x-python",
   "name": "python",
   "nbconvert_exporter": "python",
   "pygments_lexer": "ipython3",
   "version": "3.9.15"
  }
 },
 "nbformat": 4,
 "nbformat_minor": 4
}
