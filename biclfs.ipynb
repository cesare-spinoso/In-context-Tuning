{
 "cells": [
  {
   "cell_type": "code",
   "execution_count": 5,
   "metadata": {},
   "outputs": [],
   "source": [
    "import os\n",
    "import pickle as pkl\n",
    "from pathlib import Path\n",
    "cwd = os.getcwd()\n",
    "biclfs_data = Path(cwd) / \"data_biclfs_paper\" / \"data\"\n",
    "training_dir = biclfs_data / \"training_dicts\"\n",
    "testing_dir = biclfs_data / \"testing_dicts\""
   ]
  },
  {
   "cell_type": "code",
   "execution_count": 11,
   "metadata": {},
   "outputs": [],
   "source": [
    "task2training_data = {}\n",
    "task2testing_data = {}\n",
    "for filepath in training_dir.glob(\"*.pkl\"):\n",
    "    with open(filepath, \"rb\") as f:\n",
    "        data = pkl.load(f)\n",
    "        task2training_data[filepath.stem] = data\n",
    "for filepath in testing_dir.glob(\"*.pkl\"):\n",
    "    with open(filepath, \"rb\") as f:\n",
    "        data = pkl.load(f)\n",
    "        task2testing_data[filepath.stem] = data"
   ]
  },
  {
   "cell_type": "code",
   "execution_count": null,
   "metadata": {},
   "outputs": [],
   "source": [
    "# Merge the training and testing tasks that are common"
   ]
  },
  {
   "cell_type": "code",
   "execution_count": null,
   "metadata": {},
   "outputs": [],
   "source": [
    "# Resplit so that you test on held-out tasks (i.e. different prompts as well)\n",
    "# Can make 8-folds like in the LAMA split"
   ]
  },
  {
   "cell_type": "code",
   "execution_count": null,
   "metadata": {},
   "outputs": [],
   "source": [
    "# Might need to slightly modify meta-train so that it\n",
    "# doesn't require using all the different templates, or\n",
    "# always uses the correct one"
   ]
  }
 ],
 "metadata": {
  "kernelspec": {
   "display_name": "ict",
   "language": "python",
   "name": "python3"
  },
  "language_info": {
   "codemirror_mode": {
    "name": "ipython",
    "version": 3
   },
   "file_extension": ".py",
   "mimetype": "text/x-python",
   "name": "python",
   "nbconvert_exporter": "python",
   "pygments_lexer": "ipython3",
   "version": "3.9.15 (main, Nov 24 2022, 14:31:59) \n[GCC 11.2.0]"
  },
  "orig_nbformat": 4,
  "vscode": {
   "interpreter": {
    "hash": "7e7bc4b8e8cada99142c06b9ed43232f81e5e8caa43badd4883e0b628a3d44a1"
   }
  }
 },
 "nbformat": 4,
 "nbformat_minor": 2
}
