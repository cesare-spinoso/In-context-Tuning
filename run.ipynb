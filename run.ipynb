{
 "cells": [
  {
   "cell_type": "code",
   "execution_count": 1,
   "metadata": {},
   "outputs": [],
   "source": [
    "%load_ext autoreload\n",
    "%autoreload 2"
   ]
  },
  {
   "cell_type": "code",
   "execution_count": 2,
   "metadata": {},
   "outputs": [],
   "source": [
    "from biclfs_training import main"
   ]
  },
  {
   "cell_type": "code",
   "execution_count": 5,
   "metadata": {},
   "outputs": [
    {
     "data": {
      "text/html": [
       "Finishing last run (ID:yaico2cl) before initializing another..."
      ],
      "text/plain": [
       "<IPython.core.display.HTML object>"
      ]
     },
     "metadata": {},
     "output_type": "display_data"
    },
    {
     "data": {
      "text/html": [
       "Waiting for W&B process to finish... <strong style=\"color:green\">(success).</strong>"
      ],
      "text/plain": [
       "<IPython.core.display.HTML object>"
      ]
     },
     "metadata": {},
     "output_type": "display_data"
    },
    {
     "data": {
      "application/vnd.jupyter.widget-view+json": {
       "model_id": "3f84238e557e4920ab0c7c142175a789",
       "version_major": 2,
       "version_minor": 0
      },
      "text/plain": [
       "VBox(children=(Label(value='0.007 MB of 0.007 MB uploaded (0.000 MB deduped)\\r'), FloatProgress(value=1.0, max…"
      ]
     },
     "metadata": {},
     "output_type": "display_data"
    },
    {
     "data": {
      "text/html": [
       " View run <strong style=\"color:#cdcd00\">vocal-smoke-1</strong> at: <a href=\"https://wandb.ai/ultrasound/In-context-Tuning/runs/yaico2cl\" target=\"_blank\">https://wandb.ai/ultrasound/In-context-Tuning/runs/yaico2cl</a><br/>Synced 5 W&B file(s), 0 media file(s), 0 artifact file(s) and 0 other file(s)"
      ],
      "text/plain": [
       "<IPython.core.display.HTML object>"
      ]
     },
     "metadata": {},
     "output_type": "display_data"
    },
    {
     "data": {
      "text/html": [
       "Find logs at: <code>./wandb/run-20230113_173520-yaico2cl/logs</code>"
      ],
      "text/plain": [
       "<IPython.core.display.HTML object>"
      ]
     },
     "metadata": {},
     "output_type": "display_data"
    },
    {
     "data": {
      "text/html": [
       "Successfully finished last run (ID:yaico2cl). Initializing new run:<br/>"
      ],
      "text/plain": [
       "<IPython.core.display.HTML object>"
      ]
     },
     "metadata": {},
     "output_type": "display_data"
    },
    {
     "data": {
      "application/vnd.jupyter.widget-view+json": {
       "model_id": "30cf660ed8504a458b19f8dbc1d80a43",
       "version_major": 2,
       "version_minor": 0
      },
      "text/plain": [
       "VBox(children=(Label(value='Waiting for wandb.init()...\\r'), FloatProgress(value=0.016668569250032305, max=1.0…"
      ]
     },
     "metadata": {},
     "output_type": "display_data"
    },
    {
     "data": {
      "text/html": [
       "Tracking run with wandb version 0.13.9"
      ],
      "text/plain": [
       "<IPython.core.display.HTML object>"
      ]
     },
     "metadata": {},
     "output_type": "display_data"
    },
    {
     "data": {
      "text/html": [
       "Run data is saved locally in <code>/home/mila/c/cesare.spinoso/In-context-Tuning/wandb/run-20230113_173726-8ajcxt6m</code>"
      ],
      "text/plain": [
       "<IPython.core.display.HTML object>"
      ]
     },
     "metadata": {},
     "output_type": "display_data"
    },
    {
     "data": {
      "text/html": [
       "Syncing run <strong><a href=\"https://wandb.ai/cesare_spinoso/ict/runs/8ajcxt6m\" target=\"_blank\">honest-water-1</a></strong> to <a href=\"https://wandb.ai/cesare_spinoso/ict\" target=\"_blank\">Weights & Biases</a> (<a href=\"https://wandb.me/run\" target=\"_blank\">docs</a>)<br/>"
      ],
      "text/plain": [
       "<IPython.core.display.HTML object>"
      ]
     },
     "metadata": {},
     "output_type": "display_data"
    },
    {
     "data": {
      "text/html": [
       " View project at <a href=\"https://wandb.ai/cesare_spinoso/ict\" target=\"_blank\">https://wandb.ai/cesare_spinoso/ict</a>"
      ],
      "text/plain": [
       "<IPython.core.display.HTML object>"
      ]
     },
     "metadata": {},
     "output_type": "display_data"
    },
    {
     "data": {
      "text/html": [
       " View run at <a href=\"https://wandb.ai/cesare_spinoso/ict/runs/8ajcxt6m\" target=\"_blank\">https://wandb.ai/cesare_spinoso/ict/runs/8ajcxt6m</a>"
      ],
      "text/plain": [
       "<IPython.core.display.HTML object>"
      ]
     },
     "metadata": {},
     "output_type": "display_data"
    },
    {
     "data": {
      "application/vnd.jupyter.widget-view+json": {
       "model_id": "f06b8207f95a49998ffd9c14a2fd79bd",
       "version_major": 2,
       "version_minor": 0
      },
      "text/plain": [
       "Table Level Loop:   0%|          | 0/6 [00:00<?, ?it/s]"
      ]
     },
     "metadata": {},
     "output_type": "display_data"
    },
    {
     "data": {
      "application/vnd.jupyter.widget-view+json": {
       "model_id": "0c38f49b3f86432eaa04ecf6c061cf14",
       "version_major": 2,
       "version_minor": 0
      },
      "text/plain": [
       "Fold Loop: 0it [00:00, ?it/s]"
      ]
     },
     "metadata": {},
     "output_type": "display_data"
    },
    {
     "data": {
      "application/vnd.jupyter.widget-view+json": {
       "model_id": "407dbcf102274b69a78dc7bfa9652426",
       "version_major": 2,
       "version_minor": 0
      },
      "text/plain": [
       "HP Level Loop:   0%|          | 0/12 [00:00<?, ?it/s]"
      ]
     },
     "metadata": {},
     "output_type": "display_data"
    },
    {
     "data": {
      "application/vnd.jupyter.widget-view+json": {
       "model_id": "82b9e6733bda4aada5da2c478d5f56c1",
       "version_major": 2,
       "version_minor": 0
      },
      "text/plain": [
       "Preparing training examples.:   0%|          | 0/18 [00:00<?, ?it/s]"
      ]
     },
     "metadata": {},
     "output_type": "display_data"
    },
    {
     "name": "stderr",
     "output_type": "stream",
     "text": [
      "Token indices sequence length is longer than the specified maximum sequence length for this model (1129 > 1024). Running this sequence through the model will result in indexing errors\n"
     ]
    },
    {
     "data": {
      "application/vnd.jupyter.widget-view+json": {
       "model_id": "5298d35ebc1c4219a09fd37d4f0b5da5",
       "version_major": 2,
       "version_minor": 0
      },
      "text/plain": [
       "Epoch training.:   0%|          | 0/1 [00:00<?, ?it/s]"
      ]
     },
     "metadata": {},
     "output_type": "display_data"
    },
    {
     "data": {
      "application/vnd.jupyter.widget-view+json": {
       "model_id": "44907a33cec5413590ad692c9ca66e27",
       "version_major": 2,
       "version_minor": 0
      },
      "text/plain": [
       "Batch training.:   0%|          | 0/300 [00:00<?, ?it/s]"
      ]
     },
     "metadata": {},
     "output_type": "display_data"
    },
    {
     "name": "stderr",
     "output_type": "stream",
     "text": [
      "/home/mila/c/cesare.spinoso/.conda/envs/ict/lib/python3.9/site-packages/torch/optim/lr_scheduler.py:138: UserWarning: Detected call of `lr_scheduler.step()` before `optimizer.step()`. In PyTorch 1.1.0 and later, you should call them in the opposite order: `optimizer.step()` before `lr_scheduler.step()`.  Failure to do this will result in PyTorch skipping the first value of the learning rate schedule. See more details at https://pytorch.org/docs/stable/optim.html#how-to-adjust-learning-rate\n",
      "  warnings.warn(\"Detected call of `lr_scheduler.step()` before `optimizer.step()`. \"\n"
     ]
    },
    {
     "data": {
      "application/vnd.jupyter.widget-view+json": {
       "model_id": "dd166b6a881f4c7db37094824eec83bf",
       "version_major": 2,
       "version_minor": 0
      },
      "text/plain": [
       "Meta-testing for each task.:   0%|          | 0/5 [00:00<?, ?it/s]"
      ]
     },
     "metadata": {},
     "output_type": "display_data"
    },
    {
     "data": {
      "application/vnd.jupyter.widget-view+json": {
       "model_id": "3bbd6c20c52b4f37ac8712e3716557f3",
       "version_major": 2,
       "version_minor": 0
      },
      "text/plain": [
       "Predicting.:   0%|          | 0/2 [00:00<?, ?it/s]"
      ]
     },
     "metadata": {},
     "output_type": "display_data"
    },
    {
     "data": {
      "application/vnd.jupyter.widget-view+json": {
       "model_id": "ad9e2e88cc7a43fe923da26fded92ab2",
       "version_major": 2,
       "version_minor": 0
      },
      "text/plain": [
       "Evaluating.: 0it [00:00, ?it/s]"
      ]
     },
     "metadata": {},
     "output_type": "display_data"
    },
    {
     "data": {
      "application/vnd.jupyter.widget-view+json": {
       "model_id": "e6ba0df0b5204b70ba85f990db7ef497",
       "version_major": 2,
       "version_minor": 0
      },
      "text/plain": [
       "Predicting.:   0%|          | 0/2 [00:00<?, ?it/s]"
      ]
     },
     "metadata": {},
     "output_type": "display_data"
    },
    {
     "data": {
      "application/vnd.jupyter.widget-view+json": {
       "model_id": "e83ed09e37394757925bc5a3471b9706",
       "version_major": 2,
       "version_minor": 0
      },
      "text/plain": [
       "Evaluating.: 0it [00:00, ?it/s]"
      ]
     },
     "metadata": {},
     "output_type": "display_data"
    },
    {
     "data": {
      "application/vnd.jupyter.widget-view+json": {
       "model_id": "d7f8291a0845465b81480f6a803582b9",
       "version_major": 2,
       "version_minor": 0
      },
      "text/plain": [
       "Predicting.:   0%|          | 0/75 [00:00<?, ?it/s]"
      ]
     },
     "metadata": {},
     "output_type": "display_data"
    },
    {
     "data": {
      "application/vnd.jupyter.widget-view+json": {
       "model_id": "e89085d11eeb4a7fa6163e16fc741143",
       "version_major": 2,
       "version_minor": 0
      },
      "text/plain": [
       "Evaluating.: 0it [00:00, ?it/s]"
      ]
     },
     "metadata": {},
     "output_type": "display_data"
    },
    {
     "data": {
      "application/vnd.jupyter.widget-view+json": {
       "model_id": "ff0a80c4a1934f24b9490af7eb494bc3",
       "version_major": 2,
       "version_minor": 0
      },
      "text/plain": [
       "Predicting.:   0%|          | 0/18 [00:00<?, ?it/s]"
      ]
     },
     "metadata": {},
     "output_type": "display_data"
    },
    {
     "data": {
      "application/vnd.jupyter.widget-view+json": {
       "model_id": "ce278c9dcd734ca9b55c45b47f352cdc",
       "version_major": 2,
       "version_minor": 0
      },
      "text/plain": [
       "Evaluating.: 0it [00:00, ?it/s]"
      ]
     },
     "metadata": {},
     "output_type": "display_data"
    },
    {
     "data": {
      "application/vnd.jupyter.widget-view+json": {
       "model_id": "20c83d0e770143b2849d1d6887b9ffee",
       "version_major": 2,
       "version_minor": 0
      },
      "text/plain": [
       "Predicting.:   0%|          | 0/1 [00:00<?, ?it/s]"
      ]
     },
     "metadata": {},
     "output_type": "display_data"
    },
    {
     "data": {
      "application/vnd.jupyter.widget-view+json": {
       "model_id": "774299d792ac4bbabb1f1d2679939a50",
       "version_major": 2,
       "version_minor": 0
      },
      "text/plain": [
       "Evaluating.: 0it [00:00, ?it/s]"
      ]
     },
     "metadata": {},
     "output_type": "display_data"
    },
    {
     "ename": "TypeError",
     "evalue": "log() got an unexpected keyword argument 'group'",
     "output_type": "error",
     "traceback": [
      "\u001b[0;31m---------------------------------------------------------------------------\u001b[0m",
      "\u001b[0;31mTypeError\u001b[0m                                 Traceback (most recent call last)",
      "\u001b[1;32m/home/mila/c/cesare.spinoso/In-context-Tuning/run.ipynb Cell 3\u001b[0m in \u001b[0;36m<cell line: 1>\u001b[0;34m()\u001b[0m\n\u001b[0;32m----> <a href='vscode-notebook-cell://ssh-remote%2Bcn-g014.server.mila.quebec/home/mila/c/cesare.spinoso/In-context-Tuning/run.ipynb#W3sdnNjb2RlLXJlbW90ZQ%3D%3D?line=0'>1</a>\u001b[0m main()\n",
      "File \u001b[0;32m~/In-context-Tuning/src/biclfs_training.py:155\u001b[0m, in \u001b[0;36mmain\u001b[0;34m()\u001b[0m\n\u001b[1;32m    143\u001b[0m metric2scores \u001b[39m=\u001b[39m OrderedDict(\n\u001b[1;32m    144\u001b[0m     {\n\u001b[1;32m    145\u001b[0m         metric: [\n\u001b[0;32m   (...)\u001b[0m\n\u001b[1;32m    150\u001b[0m     }\n\u001b[1;32m    151\u001b[0m )\n\u001b[1;32m    152\u001b[0m val_metric2avg_scores \u001b[39m=\u001b[39m [\n\u001b[1;32m    153\u001b[0m     np\u001b[39m.\u001b[39mmean(scores) \u001b[39mfor\u001b[39;00m scores \u001b[39min\u001b[39;00m metric2scores\u001b[39m.\u001b[39mvalues()\n\u001b[1;32m    154\u001b[0m ]\n\u001b[0;32m--> 155\u001b[0m wandb\u001b[39m.\u001b[39;49mlog(\n\u001b[1;32m    156\u001b[0m     \u001b[39mdict\u001b[39;49m(\u001b[39mzip\u001b[39;49m(metrics, val_metric2avg_scores)),\n\u001b[1;32m    157\u001b[0m     group\u001b[39m=\u001b[39;49m{\n\u001b[1;32m    158\u001b[0m         \u001b[39m\"\u001b[39;49m\u001b[39mmodel name\u001b[39;49m\u001b[39m\"\u001b[39;49m: model_name,\n\u001b[1;32m    159\u001b[0m         \u001b[39m\"\u001b[39;49m\u001b[39mnum demonstrations\u001b[39;49m\u001b[39m\"\u001b[39;49m: num_demonstrations,\n\u001b[1;32m    160\u001b[0m         \u001b[39m\"\u001b[39;49m\u001b[39mfold\u001b[39;49m\u001b[39m\"\u001b[39;49m: fold_idx,\n\u001b[1;32m    161\u001b[0m         \u001b[39m\"\u001b[39;49m\u001b[39mepochs\u001b[39;49m\u001b[39m\"\u001b[39;49m: epochs,\n\u001b[1;32m    162\u001b[0m         \u001b[39m\"\u001b[39;49m\u001b[39mlr\u001b[39;49m\u001b[39m\"\u001b[39;49m: lr,\n\u001b[1;32m    163\u001b[0m     },\n\u001b[1;32m    164\u001b[0m )\n\u001b[1;32m    165\u001b[0m \u001b[39m# Track best val score, only meta-test best ict\u001b[39;00m\n\u001b[1;32m    166\u001b[0m \u001b[39m# Use precision1 as the metric to track\u001b[39;00m\n\u001b[1;32m    167\u001b[0m \u001b[39m# Both for LAMA and BiCLFS (where p@1 is the accuracy)\u001b[39;00m\n\u001b[1;32m    168\u001b[0m \u001b[39mif\u001b[39;00m val_metric2avg_scores[\u001b[39m1\u001b[39m] \u001b[39m>\u001b[39m best_val_score:\n",
      "File \u001b[0;32m~/.conda/envs/ict/lib/python3.9/site-packages/wandb/sdk/wandb_run.py:370\u001b[0m, in \u001b[0;36m_run_decorator._noop.<locals>.wrapper\u001b[0;34m(self, *args, **kwargs)\u001b[0m\n\u001b[1;32m    367\u001b[0m         wandb\u001b[39m.\u001b[39mtermwarn(message, repeat\u001b[39m=\u001b[39m\u001b[39mFalse\u001b[39;00m)\n\u001b[1;32m    368\u001b[0m         \u001b[39mreturn\u001b[39;00m \u001b[39mcls\u001b[39m\u001b[39m.\u001b[39mDummy()\n\u001b[0;32m--> 370\u001b[0m \u001b[39mreturn\u001b[39;00m func(\u001b[39mself\u001b[39;49m, \u001b[39m*\u001b[39;49margs, \u001b[39m*\u001b[39;49m\u001b[39m*\u001b[39;49mkwargs)\n",
      "File \u001b[0;32m~/.conda/envs/ict/lib/python3.9/site-packages/wandb/sdk/wandb_run.py:333\u001b[0m, in \u001b[0;36m_run_decorator._attach.<locals>.wrapper\u001b[0;34m(self, *args, **kwargs)\u001b[0m\n\u001b[1;32m    331\u001b[0m         \u001b[39mraise\u001b[39;00m e\n\u001b[1;32m    332\u001b[0m     \u001b[39mcls\u001b[39m\u001b[39m.\u001b[39m_is_attaching \u001b[39m=\u001b[39m \u001b[39m\"\u001b[39m\u001b[39m\"\u001b[39m\n\u001b[0;32m--> 333\u001b[0m \u001b[39mreturn\u001b[39;00m func(\u001b[39mself\u001b[39;49m, \u001b[39m*\u001b[39;49margs, \u001b[39m*\u001b[39;49m\u001b[39m*\u001b[39;49mkwargs)\n",
      "\u001b[0;31mTypeError\u001b[0m: log() got an unexpected keyword argument 'group'"
     ]
    }
   ],
   "source": [
    "main()"
   ]
  },
  {
   "cell_type": "code",
   "execution_count": null,
   "metadata": {},
   "outputs": [],
   "source": []
  }
 ],
 "metadata": {
  "kernelspec": {
   "display_name": "Python 3",
   "language": "python",
   "name": "python3"
  },
  "language_info": {
   "codemirror_mode": {
    "name": "ipython",
    "version": 3
   },
   "file_extension": ".py",
   "mimetype": "text/x-python",
   "name": "python",
   "nbconvert_exporter": "python",
   "pygments_lexer": "ipython3",
   "version": "3.9.15"
  },
  "vscode": {
   "interpreter": {
    "hash": "8da83863563378bbc2c761f1e89cdd777541f5f108c58e85766dc943f6cbafa4"
   }
  }
 },
 "nbformat": 4,
 "nbformat_minor": 4
}
